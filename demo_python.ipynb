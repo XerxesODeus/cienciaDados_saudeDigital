{
  "cells": [
    {
      "cell_type": "markdown",
      "metadata": {
        "id": "view-in-github",
        "colab_type": "text"
      },
      "source": [
        "<a href=\"https://colab.research.google.com/github/eddorileo/cienciaDados_saudeDigital/blob/main/demo_python.ipynb\" target=\"_parent\"><img src=\"https://colab.research.google.com/assets/colab-badge.svg\" alt=\"Open In Colab\"/></a>"
      ]
    },
    {
      "cell_type": "markdown",
      "source": [
        "#Python Basics"
      ],
      "metadata": {
        "id": "VXDMeoj7-D9k"
      }
    },
    {
      "cell_type": "markdown",
      "source": [
        "##1. Tipos Básicos de Variáveis (int, float, bool, string)\n"
      ],
      "metadata": {
        "id": "_sEbTTuuCm71"
      }
    },
    {
      "cell_type": "code",
      "source": [
        "var1 = 99\n",
        "var2 = 3.1\n",
        "var3 = True\n",
        "var4 = 'String ou texto'"
      ],
      "metadata": {
        "id": "kazacqu9Cwru"
      },
      "execution_count": 2,
      "outputs": []
    },
    {
      "cell_type": "code",
      "source": [
        "var1"
      ],
      "metadata": {
        "id": "_g4GiwrgDzwQ",
        "colab": {
          "base_uri": "https://localhost:8080/"
        },
        "outputId": "93abbd79-c87f-44ce-acce-8e1c66bab956"
      },
      "execution_count": 3,
      "outputs": [
        {
          "output_type": "execute_result",
          "data": {
            "text/plain": [
              "99"
            ]
          },
          "metadata": {},
          "execution_count": 3
        }
      ]
    },
    {
      "cell_type": "code",
      "source": [
        "print(\"var1: \", var1)\n",
        "print(\"var2: \", var2)\n",
        "print(\"var3: \", var3)\n",
        "print(\"var4: \", var4)"
      ],
      "metadata": {
        "id": "NK3BZRPxDXZu",
        "colab": {
          "base_uri": "https://localhost:8080/"
        },
        "outputId": "83bb170f-a025-4a9f-e7a9-f658cab17a2d"
      },
      "execution_count": null,
      "outputs": [
        {
          "output_type": "stream",
          "name": "stdout",
          "text": [
            "var1:  99\n",
            "var2:  3.1\n",
            "var3:  True\n",
            "var4:  String ou texto\n"
          ]
        }
      ]
    },
    {
      "cell_type": "markdown",
      "source": [
        "##2. Operadores Aritméticos (+, -, *, /)"
      ],
      "metadata": {
        "id": "AHQ01cRT-M-H"
      }
    },
    {
      "cell_type": "code",
      "source": [
        "1.2 * 2"
      ],
      "metadata": {
        "id": "ru86hjeskiEU",
        "colab": {
          "base_uri": "https://localhost:8080/"
        },
        "outputId": "3b085b84-734a-4f66-a1fe-db90a7ec29ff"
      },
      "execution_count": 5,
      "outputs": [
        {
          "output_type": "execute_result",
          "data": {
            "text/plain": [
              "2.4"
            ]
          },
          "metadata": {},
          "execution_count": 5
        }
      ]
    },
    {
      "cell_type": "code",
      "execution_count": 7,
      "metadata": {
        "id": "YnF27rxrjgG5"
      },
      "outputs": [],
      "source": [
        "a=10\n",
        "b=3"
      ]
    },
    {
      "cell_type": "code",
      "source": [
        "a+b"
      ],
      "metadata": {
        "id": "d_5Nco8J-vv-",
        "colab": {
          "base_uri": "https://localhost:8080/"
        },
        "outputId": "ebda98ff-c731-4cc1-9d11-e7771694d58a"
      },
      "execution_count": 11,
      "outputs": [
        {
          "output_type": "execute_result",
          "data": {
            "text/plain": [
              "13"
            ]
          },
          "metadata": {},
          "execution_count": 11
        }
      ]
    },
    {
      "cell_type": "code",
      "source": [
        "a*b"
      ],
      "metadata": {
        "id": "8UW9vbud-0Ic",
        "colab": {
          "base_uri": "https://localhost:8080/"
        },
        "outputId": "957057bd-12c7-476e-bc25-7ea1bf957d6d"
      },
      "execution_count": 12,
      "outputs": [
        {
          "output_type": "execute_result",
          "data": {
            "text/plain": [
              "30"
            ]
          },
          "metadata": {},
          "execution_count": 12
        }
      ]
    },
    {
      "cell_type": "markdown",
      "source": [
        "##3. Operadores de Comparação\n",
        "\n",
        "igual == <br>\n",
        "diferente !=<br>\n",
        "maior ><br>\n",
        "menor <<br>\n",
        "maior ou igual >= <br>\n",
        "menor ou igual <= <br>\n"
      ],
      "metadata": {
        "id": "j2ju_p6m_KiL"
      }
    },
    {
      "cell_type": "code",
      "source": [
        "if a==b:\n",
        "  print(\"a é igual a b\")\n",
        "else:\n",
        "  print(\"a é diferente de b\")"
      ],
      "metadata": {
        "id": "DrrObZDMAbeW",
        "colab": {
          "base_uri": "https://localhost:8080/"
        },
        "outputId": "4b92b754-5025-4cd6-f408-8a585eb1c08c"
      },
      "execution_count": 8,
      "outputs": [
        {
          "output_type": "stream",
          "name": "stdout",
          "text": [
            "a é diferente de b\n"
          ]
        }
      ]
    },
    {
      "cell_type": "code",
      "source": [
        "c=4\n",
        "print( b==c )"
      ],
      "metadata": {
        "id": "5IGJu4ngAjLa",
        "colab": {
          "base_uri": "https://localhost:8080/"
        },
        "outputId": "9605e2c9-ad5a-4e58-b22e-606b4f816ac7"
      },
      "execution_count": 10,
      "outputs": [
        {
          "output_type": "stream",
          "name": "stdout",
          "text": [
            "False\n"
          ]
        }
      ]
    },
    {
      "cell_type": "markdown",
      "source": [
        "##4. Estruturas Condicionais"
      ],
      "metadata": {
        "id": "g0oxrG2KA8lE"
      }
    },
    {
      "cell_type": "code",
      "source": [
        "if a==b:\n",
        "  print(\"a é igual a b: \", a)\n",
        "elif a==c:\n",
        "  print(\"a é igual a c: \", a)\n",
        "elif b==c:\n",
        "  print(\"b é igual a c: \", c)\n",
        "else:\n",
        "  print(\"Os valores são diferentes entre si.\")"
      ],
      "metadata": {
        "id": "neOFfNiZA8PI",
        "colab": {
          "base_uri": "https://localhost:8080/"
        },
        "outputId": "52490226-2f10-4cb3-adf0-2df58559b10c"
      },
      "execution_count": 14,
      "outputs": [
        {
          "output_type": "stream",
          "name": "stdout",
          "text": [
            "Os valores são diferentes entre si.\n"
          ]
        }
      ]
    },
    {
      "cell_type": "markdown",
      "source": [
        "##5. Estrutura de dados (Lista)"
      ],
      "metadata": {
        "id": "jpHQJvYdCW_5"
      }
    },
    {
      "cell_type": "code",
      "execution_count": null,
      "metadata": {
        "collapsed": true,
        "id": "QJbcMAbFjgG6"
      },
      "outputs": [],
      "source": [
        "x = [1, 2, 3, 4, 5, 6]"
      ]
    },
    {
      "cell_type": "code",
      "execution_count": null,
      "metadata": {
        "id": "ZOFBO0QDjgG6"
      },
      "outputs": [],
      "source": [
        "x[0]"
      ]
    },
    {
      "cell_type": "markdown",
      "source": [
        "##6. Loop (ou laço) de iterações"
      ],
      "metadata": {
        "id": "QKuMIzttKSV7"
      }
    },
    {
      "cell_type": "code",
      "source": [
        "for i in x:\n",
        "    print (i+10)"
      ],
      "metadata": {
        "id": "u5CvwwOTosdV"
      },
      "execution_count": null,
      "outputs": []
    },
    {
      "cell_type": "markdown",
      "source": [
        "##7. Método ou Função"
      ],
      "metadata": {
        "id": "rZwfyUihKkuu"
      }
    },
    {
      "cell_type": "code",
      "execution_count": null,
      "metadata": {
        "collapsed": true,
        "id": "tt-AYL6ujgG8"
      },
      "outputs": [],
      "source": [
        "def some(x, y):\n",
        "    return x + y"
      ]
    },
    {
      "cell_type": "code",
      "execution_count": null,
      "metadata": {
        "collapsed": true,
        "id": "_pGMMmKrjgG9"
      },
      "outputs": [],
      "source": [
        "some(1, 2)"
      ]
    },
    {
      "cell_type": "code",
      "execution_count": null,
      "metadata": {
        "collapsed": true,
        "id": "q1Oa5Z8RjgG9"
      },
      "outputs": [],
      "source": [
        "def avalie(grade):\n",
        "  if grade == 'A':\n",
        "      print('Excelente!')\n",
        "  elif grade == 'B':\n",
        "      print('Bom!')\n",
        "  else:\n",
        "      print('Pode melhorar...')"
      ]
    },
    {
      "cell_type": "code",
      "execution_count": null,
      "metadata": {
        "collapsed": true,
        "id": "cTl2OlwnjgG-"
      },
      "outputs": [],
      "source": [
        "avalie('A')"
      ]
    },
    {
      "cell_type": "code",
      "execution_count": null,
      "metadata": {
        "collapsed": true,
        "id": "etmea8NojgG-"
      },
      "outputs": [],
      "source": [
        "avalie('C')"
      ]
    },
    {
      "cell_type": "markdown",
      "source": [
        "##8. Gráfico"
      ],
      "metadata": {
        "id": "4Gk1KAWfLV7g"
      }
    },
    {
      "cell_type": "code",
      "source": [
        "y = [2,4,1,5,2,6]"
      ],
      "metadata": {
        "id": "OKn_UXp7pZ5-"
      },
      "execution_count": null,
      "outputs": []
    },
    {
      "cell_type": "code",
      "source": [
        "import matplotlib.pyplot as plt\n",
        "# plotando pontos da lista\n",
        "plt.plot(x, y)\n",
        "\n",
        "# função para mostrar a plotagem\n",
        "plt.show()"
      ],
      "metadata": {
        "id": "ewsjfatcptmF"
      },
      "execution_count": null,
      "outputs": []
    },
    {
      "cell_type": "markdown",
      "source": [
        "perfumaria...."
      ],
      "metadata": {
        "id": "Uzy2zre8tjyb"
      }
    },
    {
      "cell_type": "code",
      "source": [
        "# plotando pontos da lista\n",
        "plt.plot(x, y, color='green', linestyle='dashed', linewidth = 3,\n",
        "         marker='o', markerfacecolor='blue', markersize=12)\n",
        "\n",
        "# configure limites dos eixos x e y\n",
        "plt.ylim(1,8)\n",
        "plt.xlim(1,8)\n",
        "\n",
        "# nomeando o eixo x\n",
        "plt.xlabel('x - axis')\n",
        "# nomeando o eixo y\n",
        "plt.ylabel('y - axis')\n",
        "\n",
        "# dê um título ao seu gráfico\n",
        "plt.title('Customize o título do seu gráfico!')\n",
        "\n",
        "# função para mostrar a plotagem\n",
        "plt.show()"
      ],
      "metadata": {
        "id": "y80KHYBVsJv7"
      },
      "execution_count": null,
      "outputs": []
    }
  ],
  "metadata": {
    "kernelspec": {
      "display_name": "Python [ipykernel_py3]",
      "language": "python",
      "name": "Python [ipykernel_py3]"
    },
    "language_info": {
      "codemirror_mode": {
        "name": "ipython",
        "version": 3
      },
      "file_extension": ".py",
      "mimetype": "text/x-python",
      "name": "python",
      "nbconvert_exporter": "python",
      "pygments_lexer": "ipython3",
      "version": "3.6.4"
    },
    "colab": {
      "provenance": [],
      "include_colab_link": true
    }
  },
  "nbformat": 4,
  "nbformat_minor": 0
}